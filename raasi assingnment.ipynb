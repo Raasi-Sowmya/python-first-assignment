{
 "cells": [
  {
   "cell_type": "code",
   "execution_count": 6,
   "id": "db705347",
   "metadata": {},
   "outputs": [],
   "source": [
    "#TASK1"
   ]
  },
  {
   "cell_type": "code",
   "execution_count": 7,
   "id": "2108edda",
   "metadata": {},
   "outputs": [],
   "source": [
    "#STRING TO LOWER CASE"
   ]
  },
  {
   "cell_type": "code",
   "execution_count": 9,
   "id": "26cf0da9",
   "metadata": {},
   "outputs": [
    {
     "data": {
      "text/plain": [
       "'abcdefgh'"
      ]
     },
     "execution_count": 9,
     "metadata": {},
     "output_type": "execute_result"
    }
   ],
   "source": [
    "x=\"ABCDEFGH\"\n",
    "x.lower()"
   ]
  },
  {
   "cell_type": "code",
   "execution_count": 10,
   "id": "4d926ae6",
   "metadata": {},
   "outputs": [],
   "source": [
    "#odd IV TO LOWER CASE"
   ]
  },
  {
   "cell_type": "code",
   "execution_count": 15,
   "id": "c5fd65b4",
   "metadata": {},
   "outputs": [
    {
     "data": {
      "text/plain": [
       "'AbCdEfGh'"
      ]
     },
     "execution_count": 15,
     "metadata": {},
     "output_type": "execute_result"
    }
   ],
   "source": [
    "x=\"ABCDEFGH\"\n",
    "x[0]+x[1].lower()+x[2]+x[3].lower()+x[4]+x[5].lower()+x[6]+x[7].lower()"
   ]
  },
  {
   "cell_type": "code",
   "execution_count": 13,
   "id": "2e130e27",
   "metadata": {},
   "outputs": [],
   "source": [
    "#even IV TO LOWER CASE"
   ]
  },
  {
   "cell_type": "code",
   "execution_count": 17,
   "id": "20821f02",
   "metadata": {},
   "outputs": [
    {
     "data": {
      "text/plain": [
       "'aBcDeFgH'"
      ]
     },
     "execution_count": 17,
     "metadata": {},
     "output_type": "execute_result"
    }
   ],
   "source": [
    "x=\"ABCDEFGH\"\n",
    "x[0].lower()+x[1]+x[2].lower()+x[3]+x[4].lower()+x[5]+x[6].lower()+x[7]"
   ]
  },
  {
   "cell_type": "code",
   "execution_count": 18,
   "id": "d212fa92",
   "metadata": {},
   "outputs": [],
   "source": [
    "#ODD IV TO UPPER CASE"
   ]
  },
  {
   "cell_type": "code",
   "execution_count": 20,
   "id": "3f454712",
   "metadata": {},
   "outputs": [
    {
     "data": {
      "text/plain": [
       "'aBcDeFgH'"
      ]
     },
     "execution_count": 20,
     "metadata": {},
     "output_type": "execute_result"
    }
   ],
   "source": [
    "x=\"abcdefgh\"\n",
    "x[0]+x[1].upper()+x[2]+x[3].upper()+x[4]+x[5].upper()+x[6]+x[7].upper()"
   ]
  },
  {
   "cell_type": "code",
   "execution_count": null,
   "id": "253e12d1",
   "metadata": {},
   "outputs": [],
   "source": [
    "#EVEN IV TO UPPER CASE"
   ]
  },
  {
   "cell_type": "code",
   "execution_count": 22,
   "id": "6e0a6217",
   "metadata": {},
   "outputs": [
    {
     "data": {
      "text/plain": [
       "'AbCdEfGh'"
      ]
     },
     "execution_count": 22,
     "metadata": {},
     "output_type": "execute_result"
    }
   ],
   "source": [
    "x=\"abcdefgh\"\n",
    "x[0].upper()+x[1]+x[2].upper()+x[3]+x[4].upper()+x[5]+x[6].upper()+x[7]"
   ]
  },
  {
   "cell_type": "code",
   "execution_count": 23,
   "id": "3168fe6b",
   "metadata": {},
   "outputs": [],
   "source": [
    "# BIO DATA"
   ]
  },
  {
   "cell_type": "code",
   "execution_count": 32,
   "id": "7f0c139e",
   "metadata": {},
   "outputs": [
    {
     "name": "stdout",
     "output_type": "stream",
     "text": [
      "{'NAME': 'DOREMON', 'AGE': 15, 'SEX': 'MALE', 'PHNO': 9876543210, 'FATHERNAME': 'TOBAKO', 'MOTHERSNAME': 'SUZUKI'}\n"
     ]
    }
   ],
   "source": [
    "BIODATA={\"NAME\":\"DOREMON\",\"AGE\":15,\"SEX\":\"MALE\",\"PHNO\":9876543210,\"FATHERNAME\":\"TOBAKO\",\"MOTHERSNAME\":\"SUZUKI\"}\n",
    "print(BIODATA)"
   ]
  },
  {
   "cell_type": "code",
   "execution_count": 33,
   "id": "1818eb77",
   "metadata": {},
   "outputs": [],
   "source": [
    "#get()"
   ]
  },
  {
   "cell_type": "code",
   "execution_count": 39,
   "id": "f986507f",
   "metadata": {},
   "outputs": [
    {
     "data": {
      "text/plain": [
       "['name1.', ',name2.', ',name3', '']"
      ]
     },
     "execution_count": 39,
     "metadata": {},
     "output_type": "execute_result"
    }
   ],
   "source": [
    "x=\"name1.@gmail.com,name2.@gmail.com,name3@gmail.com\"\n",
    "x.split(\"@gmail.com\")"
   ]
  },
  {
   "cell_type": "code",
   "execution_count": 40,
   "id": "d4c2bd5f",
   "metadata": {},
   "outputs": [],
   "source": [
    "# new string"
   ]
  },
  {
   "cell_type": "code",
   "execution_count": 42,
   "id": "b95b97d7",
   "metadata": {},
   "outputs": [
    {
     "data": {
      "text/plain": [
       "'raasi'"
      ]
     },
     "execution_count": 42,
     "metadata": {},
     "output_type": "execute_result"
    }
   ],
   "source": [
    "x=\"mynameisraasisowmya\"\n",
    "len(x)\n",
    "x[8:13]"
   ]
  },
  {
   "cell_type": "code",
   "execution_count": null,
   "id": "5ec04920",
   "metadata": {},
   "outputs": [],
   "source": [
    "# add new string"
   ]
  },
  {
   "cell_type": "code",
   "execution_count": 43,
   "id": "2a639470",
   "metadata": {},
   "outputs": [],
   "source": [
    "x=\"mynameis\"\n",
    "y=\"raasisowmya\""
   ]
  },
  {
   "cell_type": "code",
   "execution_count": 44,
   "id": "b7d73e34",
   "metadata": {},
   "outputs": [
    {
     "data": {
      "text/plain": [
       "'mynameisraasisowmya'"
      ]
     },
     "execution_count": 44,
     "metadata": {},
     "output_type": "execute_result"
    }
   ],
   "source": [
    "x=\"mynameis{}\"\n",
    "x.format(y)"
   ]
  },
  {
   "cell_type": "code",
   "execution_count": 45,
   "id": "e47ef52c",
   "metadata": {},
   "outputs": [],
   "source": [
    "#remove 1st case of alphabets"
   ]
  },
  {
   "cell_type": "code",
   "execution_count": 51,
   "id": "8bcf03a6",
   "metadata": {},
   "outputs": [
    {
     "data": {
      "text/plain": [
       "'bcdefghijklmnopqrstuvwxyz'"
      ]
     },
     "execution_count": 51,
     "metadata": {},
     "output_type": "execute_result"
    }
   ],
   "source": [
    "x=\"abcdefghijklmnopqrstuvwxyz\"\n",
    "x[1:]"
   ]
  },
  {
   "cell_type": "code",
   "execution_count": null,
   "id": "9ed3e5a8",
   "metadata": {},
   "outputs": [],
   "source": []
  },
  {
   "cell_type": "code",
   "execution_count": 1,
   "id": "6ea38dee",
   "metadata": {},
   "outputs": [],
   "source": [
    "#task 2"
   ]
  },
  {
   "cell_type": "code",
   "execution_count": 2,
   "id": "66367921",
   "metadata": {},
   "outputs": [],
   "source": [
    "#multipication and division"
   ]
  },
  {
   "cell_type": "code",
   "execution_count": 3,
   "id": "452b7bb9",
   "metadata": {},
   "outputs": [
    {
     "name": "stdout",
     "output_type": "stream",
     "text": [
      "type a number: 2\n",
      "type a operator *,/: /\n",
      "type another number: 8\n",
      "0.25\n"
     ]
    }
   ],
   "source": [
    "x=int(input(\"type a number: \"))\n",
    "operator=input(\"type a operator *,/: \")\n",
    "y=int(input(\"type another number: \"))\n",
    "if operator==\"*\":\n",
    "    print(x*y)\n",
    "elif operator==\"/\":\n",
    "    print(x/y)\n",
    "else:\n",
    "    print(\"not specified a value\")"
   ]
  },
  {
   "cell_type": "code",
   "execution_count": 14,
   "id": "b797960c",
   "metadata": {},
   "outputs": [
    {
     "name": "stdout",
     "output_type": "stream",
     "text": [
      "Ts2Asgmn\n"
     ]
    }
   ],
   "source": [
    "#even index value characters\n",
    "x=\"Task2 Assignment\"\n",
    "print(x[0::2])"
   ]
  },
  {
   "cell_type": "code",
   "execution_count": 18,
   "id": "159aa0b8",
   "metadata": {
    "scrolled": true
   },
   "outputs": [
    {
     "name": "stdout",
     "output_type": "stream",
     "text": [
      "Ts2Asgmn"
     ]
    }
   ],
   "source": [
    "x=\"Task2 Assignment\"\n",
    "for y in range(0,len(x)):\n",
    "    if y%2==0:\n",
    "        print(x[y],end=\"\")  "
   ]
  },
  {
   "cell_type": "code",
   "execution_count": 11,
   "id": "fee9c8ae",
   "metadata": {},
   "outputs": [],
   "source": [
    "#odd index value characters"
   ]
  },
  {
   "cell_type": "code",
   "execution_count": 12,
   "id": "de3634c8",
   "metadata": {},
   "outputs": [
    {
     "name": "stdout",
     "output_type": "stream",
     "text": [
      "ak sinet\n"
     ]
    }
   ],
   "source": [
    "x=\"Task2 Assignment\"\n",
    "print(x[1::2])"
   ]
  },
  {
   "cell_type": "code",
   "execution_count": 20,
   "id": "50b7b05d",
   "metadata": {},
   "outputs": [
    {
     "name": "stdout",
     "output_type": "stream",
     "text": [
      "ak sinet"
     ]
    }
   ],
   "source": [
    "x=\"Task2 Assignment\"\n",
    "for y in range(0,len(x)):\n",
    "    if y%2==1:\n",
    "        print(x[y],end=\"\") "
   ]
  },
  {
   "cell_type": "code",
   "execution_count": null,
   "id": "90ce606f",
   "metadata": {},
   "outputs": [],
   "source": [
    "# sum even num or difference odd num"
   ]
  },
  {
   "cell_type": "code",
   "execution_count": 21,
   "id": "74ad1a77",
   "metadata": {},
   "outputs": [
    {
     "name": "stdout",
     "output_type": "stream",
     "text": [
      "enter a value: 4\n",
      "enter a value: 8\n",
      "12\n"
     ]
    }
   ],
   "source": [
    "x=int(input(\"enter a value: \"))\n",
    "y=int(input(\"enter a value: \"))\n",
    "\n",
    "if x%2==0 and y%2==0:\n",
    "        print(x+y)\n",
    "else:\n",
    "        print(x-y)"
   ]
  },
  {
   "cell_type": "code",
   "execution_count": 23,
   "id": "2038e35f",
   "metadata": {},
   "outputs": [],
   "source": [
    "#print even index in uppercase and odd index as char"
   ]
  },
  {
   "cell_type": "code",
   "execution_count": 26,
   "id": "014cb4d1",
   "metadata": {},
   "outputs": [
    {
     "name": "stdout",
     "output_type": "stream",
     "text": [
      "None\n",
      "None\n"
     ]
    },
    {
     "ename": "AttributeError",
     "evalue": "'NoneType' object has no attribute 'append'",
     "output_type": "error",
     "traceback": [
      "\u001b[1;31m---------------------------------------------------------------------------\u001b[0m",
      "\u001b[1;31mAttributeError\u001b[0m                            Traceback (most recent call last)",
      "\u001b[1;32m~\\AppData\\Local\\Temp\\ipykernel_20136\\4013233727.py\u001b[0m in \u001b[0;36m<module>\u001b[1;34m\u001b[0m\n\u001b[0;32m      3\u001b[0m \u001b[1;32mfor\u001b[0m \u001b[0my\u001b[0m \u001b[1;32min\u001b[0m \u001b[0mrange\u001b[0m\u001b[1;33m(\u001b[0m\u001b[1;36m0\u001b[0m\u001b[1;33m,\u001b[0m\u001b[0mlen\u001b[0m\u001b[1;33m(\u001b[0m\u001b[0mx\u001b[0m\u001b[1;33m)\u001b[0m\u001b[1;33m)\u001b[0m\u001b[1;33m:\u001b[0m\u001b[1;33m\u001b[0m\u001b[1;33m\u001b[0m\u001b[0m\n\u001b[0;32m      4\u001b[0m         \u001b[1;32mif\u001b[0m \u001b[0my\u001b[0m\u001b[1;33m%\u001b[0m\u001b[1;36m2\u001b[0m\u001b[1;33m==\u001b[0m\u001b[1;36m0\u001b[0m\u001b[1;33m:\u001b[0m\u001b[1;33m\u001b[0m\u001b[1;33m\u001b[0m\u001b[0m\n\u001b[1;32m----> 5\u001b[1;33m             \u001b[0mstrin\u001b[0m\u001b[1;33m=\u001b[0m\u001b[0mstrin\u001b[0m\u001b[1;33m.\u001b[0m\u001b[0mappend\u001b[0m\u001b[1;33m(\u001b[0m\u001b[0mx\u001b[0m\u001b[1;33m.\u001b[0m\u001b[0mupper\u001b[0m\u001b[1;33m(\u001b[0m\u001b[1;33m)\u001b[0m\u001b[1;33m)\u001b[0m\u001b[1;33m\u001b[0m\u001b[1;33m\u001b[0m\u001b[0m\n\u001b[0m\u001b[0;32m      6\u001b[0m         \u001b[0mprint\u001b[0m\u001b[1;33m(\u001b[0m\u001b[0mstrin\u001b[0m\u001b[1;33m)\u001b[0m\u001b[1;33m\u001b[0m\u001b[1;33m\u001b[0m\u001b[0m\n",
      "\u001b[1;31mAttributeError\u001b[0m: 'NoneType' object has no attribute 'append'"
     ]
    }
   ],
   "source": [
    "x=\"Task2 Assignment\"\n",
    "strin=[]\n",
    "for y in range(0,len(x)):\n",
    "        if y%2==0:\n",
    "            strin=strin.append(y.upper())\n",
    "        print(strin)"
   ]
  },
  {
   "cell_type": "code",
   "execution_count": 4,
   "id": "cfc918f1",
   "metadata": {},
   "outputs": [],
   "source": [
    "#print true if divisible by 5"
   ]
  },
  {
   "cell_type": "code",
   "execution_count": 6,
   "id": "0aca182d",
   "metadata": {},
   "outputs": [
    {
     "name": "stdout",
     "output_type": "stream",
     "text": [
      "enter a value: 45\n",
      "true\n"
     ]
    }
   ],
   "source": [
    "x=int(input(\"enter a value: \"))\n",
    "if x/5:\n",
    "    print(\"true\")\n",
    "else:\n",
    "    print(\"false\")"
   ]
  },
  {
   "cell_type": "code",
   "execution_count": null,
   "id": "c6a665ec",
   "metadata": {},
   "outputs": [],
   "source": [
    "#product if >1000 or do sum"
   ]
  },
  {
   "cell_type": "code",
   "execution_count": 7,
   "id": "37ee254e",
   "metadata": {},
   "outputs": [
    {
     "name": "stdout",
     "output_type": "stream",
     "text": [
      "enter a value: 44\n",
      "enter a value: 55\n",
      "99\n"
     ]
    }
   ],
   "source": [
    "x=int(input(\"enter a value: \"))\n",
    "y=int(input(\"enter a value: \"))\n",
    "z=0\n",
    "while x>1000 and y>1000:\n",
    "    print(x*y)\n",
    "else:\n",
    "    print(x+y)\n",
    "    z=z+1  "
   ]
  },
  {
   "cell_type": "code",
   "execution_count": 8,
   "id": "2854f9e1",
   "metadata": {},
   "outputs": [],
   "source": [
    "#print first middle and last characters"
   ]
  },
  {
   "cell_type": "code",
   "execution_count": 9,
   "id": "3335572b",
   "metadata": {},
   "outputs": [
    {
     "name": "stdout",
     "output_type": "stream",
     "text": [
      "enter a word: python\n",
      "enter a word: jupyter\n"
     ]
    },
    {
     "data": {
      "text/plain": [
       "'pjtpnr'"
      ]
     },
     "execution_count": 9,
     "metadata": {},
     "output_type": "execute_result"
    }
   ],
   "source": [
    "x=input(\"enter a word: \")\n",
    "y=input(\"enter a word: \")\n",
    "x[0]+y[0]+x[2]+y[2]+x[-1]+y[-1]"
   ]
  },
  {
   "cell_type": "code",
   "execution_count": 10,
   "id": "9475d68d",
   "metadata": {},
   "outputs": [],
   "source": [
    "#print input names"
   ]
  },
  {
   "cell_type": "code",
   "execution_count": 11,
   "id": "bc7f71ee",
   "metadata": {},
   "outputs": [
    {
     "name": "stdout",
     "output_type": "stream",
     "text": [
      "enter three names: raasi blessy raji\n",
      "name1: raasi\n",
      "name2: blessy\n",
      "name3: raji\n"
     ]
    }
   ],
   "source": [
    "x,y,z=input(\"enter three names: \").split()\n",
    "print(\"name1:\",x)\n",
    "print(\"name2:\",y)\n",
    "print(\"name3:\",z)"
   ]
  },
  {
   "cell_type": "code",
   "execution_count": 12,
   "id": "21a835a2",
   "metadata": {},
   "outputs": [],
   "source": [
    "#replace 1st character"
   ]
  },
  {
   "cell_type": "code",
   "execution_count": 13,
   "id": "63cb05bd",
   "metadata": {},
   "outputs": [
    {
     "name": "stdout",
     "output_type": "stream",
     "text": [
      "enter a name: malayalam\n"
     ]
    },
    {
     "data": {
      "text/plain": [
       "'mal@y@l@m'"
      ]
     },
     "execution_count": 13,
     "metadata": {},
     "output_type": "execute_result"
    }
   ],
   "source": [
    "x=input(\"enter a name: \")\n",
    "x[0]+x[1]+x[2:].replace(\"a\",\"@\")"
   ]
  },
  {
   "cell_type": "code",
   "execution_count": 14,
   "id": "97746c72",
   "metadata": {},
   "outputs": [],
   "source": [
    "#replacing"
   ]
  },
  {
   "cell_type": "code",
   "execution_count": 1,
   "id": "7a199124",
   "metadata": {},
   "outputs": [
    {
     "name": "stdout",
     "output_type": "stream",
     "text": [
      "enter a name: going\n",
      "goly\n"
     ]
    }
   ],
   "source": [
    "x=input(\"enter a name: \")\n",
    "z=\"ing\"\n",
    "for y in range(0,1):\n",
    "    if y>=3:   \n",
    "        print(x+\"ing\")\n",
    "    elif x[-3:]==z:\n",
    "        print(x.replace(\"ing\",\"ly\"))\n",
    "    elif y<3:\n",
    "        print(x)  "
   ]
  },
  {
   "cell_type": "code",
   "execution_count": 2,
   "id": "cb4ed4f5",
   "metadata": {},
   "outputs": [],
   "source": [
    "#any number or sum of num is 10 true"
   ]
  },
  {
   "cell_type": "code",
   "execution_count": 12,
   "id": "c8a6ace8",
   "metadata": {},
   "outputs": [
    {
     "name": "stdout",
     "output_type": "stream",
     "text": [
      "enter a value: 10\n",
      "enter a value: 4\n",
      "true\n"
     ]
    }
   ],
   "source": [
    "x=input(\"enter a value: \")\n",
    "y=input(\"enter a value: \")\n",
    "print(\"true\") if x or y or x+y==10 else print(\"false\")"
   ]
  },
  {
   "cell_type": "code",
   "execution_count": 13,
   "id": "3941d9d8",
   "metadata": {},
   "outputs": [],
   "source": [
    "#mutiply is greater than last given num"
   ]
  },
  {
   "cell_type": "code",
   "execution_count": 15,
   "id": "9c306232",
   "metadata": {},
   "outputs": [
    {
     "name": "stdout",
     "output_type": "stream",
     "text": [
      "enter a value: 4\n",
      "enter a value: 3\n",
      "enter a value: 2\n",
      "true\n"
     ]
    }
   ],
   "source": [
    "x=int(input(\"enter a value: \"))\n",
    "y=int(input(\"enter a value: \"))\n",
    "z=int(input(\"enter a value: \"))\n",
    "if x*y>z:\n",
    "    print(\"true\")\n",
    "else:\n",
    "    print(\"false\")"
   ]
  },
  {
   "cell_type": "code",
   "execution_count": 16,
   "id": "f70baf67",
   "metadata": {},
   "outputs": [],
   "source": [
    "#true if lenght of two num equal"
   ]
  },
  {
   "cell_type": "code",
   "execution_count": 17,
   "id": "5f00b670",
   "metadata": {},
   "outputs": [
    {
     "name": "stdout",
     "output_type": "stream",
     "text": [
      "enter a string: raasi\n",
      "enter a string: raaji\n",
      "true\n"
     ]
    }
   ],
   "source": [
    "x=input(\"enter a string: \")\n",
    "y=input(\"enter a string: \")\n",
    "for z in range(0,1):\n",
    "    if len(x)==len(y):\n",
    "        print(\"true\")\n",
    "    else:\n",
    "        print(\"false\")"
   ]
  },
  {
   "cell_type": "code",
   "execution_count": null,
   "id": "2fca6d10",
   "metadata": {},
   "outputs": [],
   "source": [
    "#15th question?????"
   ]
  },
  {
   "cell_type": "code",
   "execution_count": 20,
   "id": "93b62a65",
   "metadata": {},
   "outputs": [],
   "source": [
    "#plurals"
   ]
  },
  {
   "cell_type": "code",
   "execution_count": 19,
   "id": "311d6690",
   "metadata": {},
   "outputs": [
    {
     "name": "stdout",
     "output_type": "stream",
     "text": [
      "enter a word: flowers\n",
      "Its a prural\n"
     ]
    }
   ],
   "source": [
    "x=input(\"enter a word: \")\n",
    "y=\"s\"\n",
    "if x[-1]==y:\n",
    "    print(\"Its a prural\")\n",
    "else:\n",
    "    print(\"Its not a prural\")"
   ]
  },
  {
   "cell_type": "code",
   "execution_count": null,
   "id": "928cef88",
   "metadata": {},
   "outputs": [],
   "source": [
    "#break time"
   ]
  },
  {
   "cell_type": "code",
   "execution_count": 5,
   "id": "344ae6ec",
   "metadata": {},
   "outputs": [
    {
     "name": "stdout",
     "output_type": "stream",
     "text": [
      "enter age: 15\n",
      "break time\n"
     ]
    }
   ],
   "source": [
    "x=int(input(\"enter age: \"))\n",
    "if x>=18:\n",
    "    print(\"not a break time\")\n",
    "elif x<18:\n",
    "    print(\"break time\")"
   ]
  },
  {
   "cell_type": "code",
   "execution_count": 3,
   "id": "1c9f0b26",
   "metadata": {},
   "outputs": [],
   "source": [
    "#identify the relation"
   ]
  },
  {
   "cell_type": "code",
   "execution_count": 4,
   "id": "4a27ee50",
   "metadata": {},
   "outputs": [
    {
     "data": {
      "text/plain": [
       "'mother'"
      ]
     },
     "execution_count": 4,
     "metadata": {},
     "output_type": "execute_result"
    }
   ],
   "source": [
    "y={\"shiva\":\"father\",\"latha\":\"mother\",\"tarun\":\"brother\",\"kavitha\":\"sister\"}\n",
    "y.get(\"latha\")"
   ]
  },
  {
   "cell_type": "code",
   "execution_count": 1,
   "id": "17fc7b88",
   "metadata": {},
   "outputs": [],
   "source": [
    "#vowels and consonants"
   ]
  },
  {
   "cell_type": "code",
   "execution_count": 2,
   "id": "a7366b84",
   "metadata": {},
   "outputs": [
    {
     "name": "stdout",
     "output_type": "stream",
     "text": [
      "enter a word: raasi\n",
      "no of consonants:  r\n",
      "no of vowels:  a\n",
      "no of vowels:  a\n",
      "no of consonants:  s\n",
      "no of vowels:  i\n"
     ]
    }
   ],
   "source": [
    "x=input(\"enter a word: \")\n",
    "vowels=[\"a\",\"e\",\"i\",\"o\",\"u\"]\n",
    "v=0\n",
    "x.lower()\n",
    "for y in x:\n",
    "    if y in vowels:\n",
    "        v+=1\n",
    "        print(\"no of vowels: \",y)\n",
    "    else:\n",
    "        print(\"no of consonants: \",y)"
   ]
  },
  {
   "cell_type": "code",
   "execution_count": 22,
   "id": "f03a17b8",
   "metadata": {},
   "outputs": [],
   "source": [
    "#calculator"
   ]
  },
  {
   "cell_type": "code",
   "execution_count": 24,
   "id": "10b2f416",
   "metadata": {},
   "outputs": [
    {
     "name": "stdout",
     "output_type": "stream",
     "text": [
      "enter first number: 4\n",
      "enter oparator +,-*,/,%,**: **\n",
      "enter second number: 2\n",
      "16\n"
     ]
    }
   ],
   "source": [
    "x=int(input(\"enter first number: \"))\n",
    "operator=input(\"enter oparator +,-*,/,%,**: \")\n",
    "y=int(input(\"enter second number: \"))\n",
    "if operator==\"+\":\n",
    "    print(x+y)\n",
    "elif operator==\"-\":\n",
    "    print(x-y)\n",
    "elif operator==\"*\":\n",
    "    print(x*y)\n",
    "elif operator==\"/\":\n",
    "    print(x/y)\n",
    "elif operator==\"%\":\n",
    "    print(x%y)\n",
    "elif operator==\"**\":\n",
    "    print(x**y)"
   ]
  },
  {
   "cell_type": "code",
   "execution_count": null,
   "id": "421529bb",
   "metadata": {},
   "outputs": [],
   "source": []
  },
  {
   "cell_type": "code",
   "execution_count": null,
   "id": "e037347b",
   "metadata": {},
   "outputs": [],
   "source": []
  },
  {
   "cell_type": "code",
   "execution_count": 21,
   "id": "e5ed69be",
   "metadata": {},
   "outputs": [],
   "source": [
    "#TASK3"
   ]
  },
  {
   "cell_type": "code",
   "execution_count": null,
   "id": "553ccbe9",
   "metadata": {},
   "outputs": [],
   "source": [
    "#print 0 to 6 withx=[0,1,2,3,4,5,6]"
   ]
  },
  {
   "cell_type": "code",
   "execution_count": 12,
   "id": "e18d55fa",
   "metadata": {},
   "outputs": [
    {
     "name": "stdout",
     "output_type": "stream",
     "text": [
      "0\n",
      "1\n",
      "2\n",
      "4\n",
      "5\n"
     ]
    }
   ],
   "source": [
    "x=[0,1,2,3,4,5,6]\n",
    "for y in x:\n",
    "    if y==3:\n",
    "        continue\n",
    "    if y==6:\n",
    "        continue\n",
    "    print(y)"
   ]
  },
  {
   "cell_type": "code",
   "execution_count": 5,
   "id": "60224935",
   "metadata": {},
   "outputs": [],
   "source": [
    "#sum of 1 to given number"
   ]
  },
  {
   "cell_type": "code",
   "execution_count": 20,
   "id": "cad6af95",
   "metadata": {},
   "outputs": [
    {
     "name": "stdout",
     "output_type": "stream",
     "text": [
      "type a number :257\n",
      "sum= 33153\n"
     ]
    }
   ],
   "source": [
    "num=int(input(\"type a number :\"))\n",
    "i=1\n",
    "sum=0\n",
    "while(i<=num):\n",
    "    sum+=i\n",
    "    i+=1\n",
    "print(\"sum=\",sum)"
   ]
  },
  {
   "cell_type": "code",
   "execution_count": 7,
   "id": "10dd09ef",
   "metadata": {},
   "outputs": [
    {
     "name": "stdout",
     "output_type": "stream",
     "text": [
      "type a number5\n",
      "5 * 1 = 5\n",
      "5 * 2 = 10\n",
      "5 * 3 = 15\n",
      "5 * 4 = 20\n",
      "5 * 5 = 25\n",
      "5 * 6 = 30\n",
      "5 * 7 = 35\n",
      "5 * 8 = 40\n",
      "5 * 9 = 45\n",
      "5 * 10 = 50\n"
     ]
    }
   ],
   "source": [
    "x=int(input(\"type a number\"))\n",
    "for y in range(1,11):\n",
    "    print(x,\"*\",y,\"=\",x*y)"
   ]
  },
  {
   "cell_type": "code",
   "execution_count": 1,
   "id": "cb7d26cc",
   "metadata": {},
   "outputs": [],
   "source": [
    "#length of given number"
   ]
  },
  {
   "cell_type": "code",
   "execution_count": 12,
   "id": "988a93fe",
   "metadata": {},
   "outputs": [
    {
     "name": "stdout",
     "output_type": "stream",
     "text": [
      "enter a value: 554665\n",
      "6\n"
     ]
    }
   ],
   "source": [
    "x=int(input(\"enter a value: \"))\n",
    "y=0\n",
    "while x>0:\n",
    "    x=x//10  \n",
    "    y=y+1\n",
    "print(y)"
   ]
  },
  {
   "cell_type": "code",
   "execution_count": null,
   "id": "fbe9dbd5",
   "metadata": {},
   "outputs": [],
   "source": [
    "#entering guess number"
   ]
  },
  {
   "cell_type": "code",
   "execution_count": 3,
   "id": "af7598e5",
   "metadata": {},
   "outputs": [
    {
     "name": "stdout",
     "output_type": "stream",
     "text": [
      "enter a value: 123\n",
      "please enter correct value\n"
     ]
    }
   ],
   "source": [
    "x=int(input(\"enter a value: \"))\n",
    "if x<=467:\n",
    "    print(\"please enter correct value\")\n",
    "elif x>=465:\n",
    "    print(\"please enter correct value\")\n",
    "else:\n",
    "    print(\"your guess correct\")"
   ]
  },
  {
   "cell_type": "code",
   "execution_count": 4,
   "id": "9a252090",
   "metadata": {},
   "outputs": [],
   "source": [
    "#multiples of 3 an 5 as fizz and buzz"
   ]
  },
  {
   "cell_type": "code",
   "execution_count": 5,
   "id": "be12979e",
   "metadata": {},
   "outputs": [
    {
     "name": "stdout",
     "output_type": "stream",
     "text": [
      "1\n",
      "2\n",
      "Fizz\n",
      "3\n",
      "4\n",
      "Buzz\n",
      "5\n",
      "Fizz\n",
      "6\n",
      "7\n",
      "8\n",
      "Fizz\n",
      "9\n",
      "Buzz\n",
      "10\n",
      "11\n",
      "Fizz\n",
      "12\n",
      "13\n",
      "14\n",
      "Fizz\n",
      "Buzz\n",
      "FizzBuzz\n",
      "16\n",
      "17\n",
      "Fizz\n",
      "18\n",
      "19\n",
      "Buzz\n",
      "20\n",
      "Fizz\n",
      "21\n",
      "22\n",
      "23\n",
      "Fizz\n",
      "24\n",
      "Buzz\n",
      "25\n",
      "26\n",
      "Fizz\n",
      "27\n",
      "28\n",
      "29\n",
      "Fizz\n",
      "Buzz\n",
      "FizzBuzz\n",
      "31\n",
      "32\n",
      "Fizz\n",
      "33\n",
      "34\n",
      "Buzz\n",
      "35\n",
      "Fizz\n",
      "36\n",
      "37\n",
      "38\n",
      "Fizz\n",
      "39\n",
      "Buzz\n",
      "40\n",
      "41\n",
      "Fizz\n",
      "42\n",
      "43\n",
      "44\n",
      "Fizz\n",
      "Buzz\n",
      "FizzBuzz\n",
      "46\n",
      "47\n",
      "Fizz\n",
      "48\n",
      "49\n",
      "Buzz\n",
      "50\n",
      "Fizz\n",
      "51\n",
      "52\n",
      "53\n",
      "Fizz\n",
      "54\n",
      "Buzz\n",
      "55\n",
      "56\n",
      "Fizz\n",
      "57\n",
      "58\n",
      "59\n",
      "Fizz\n",
      "Buzz\n",
      "FizzBuzz\n"
     ]
    }
   ],
   "source": [
    "for y in range(1,61):\n",
    "    if y%3==0:\n",
    "        print(\"Fizz\")\n",
    "    if y%5==0:\n",
    "        print(\"Buzz\")\n",
    "    if y%3==0 and y%5==0:\n",
    "        print(\"FizzBuzz\")\n",
    "    else:\n",
    "        print(y)"
   ]
  },
  {
   "cell_type": "code",
   "execution_count": 1,
   "id": "51768808",
   "metadata": {},
   "outputs": [],
   "source": [
    "#no of alphabets and no of numbers"
   ]
  },
  {
   "cell_type": "code",
   "execution_count": 5,
   "id": "740ae899",
   "metadata": {},
   "outputs": [
    {
     "name": "stdout",
     "output_type": "stream",
     "text": [
      "enter a word: raasi1234sowmya\n",
      "letters-:  11\n",
      "digits-:  4\n"
     ]
    }
   ],
   "source": [
    "x=input(\"enter a word: \")\n",
    "l=0\n",
    "d=0\n",
    "for y in x:\n",
    "    if y.isalpha():\n",
    "        l+=1\n",
    "    else:\n",
    "        if y.isnumeric():\n",
    "            d+=1  \n",
    "print(\"letters-: \",l)\n",
    "print(\"digits-: \",d)"
   ]
  },
  {
   "cell_type": "code",
   "execution_count": 6,
   "id": "ad8415a7",
   "metadata": {},
   "outputs": [],
   "source": [
    "#validatin of password"
   ]
  },
  {
   "cell_type": "code",
   "execution_count": 7,
   "id": "edec47a8",
   "metadata": {},
   "outputs": [
    {
     "name": "stdout",
     "output_type": "stream",
     "text": [
      "enter password: Jonny*9\n",
      "ok good\n",
      "strong password\n"
     ]
    }
   ],
   "source": [
    "password=input(\"enter password: \")\n",
    "x=\"!,@,#,$,%,^,&,* \"\n",
    "if len(password)>16 or len(password)<6:\n",
    "        print(\"maximum length of password is 12 and minimum length is 6\")\n",
    "else:\n",
    "        print(\"ok good\")\n",
    "if password.isalnum==password or password.upper()==password or password.lower()==password or x==password:\n",
    "    print(\"password must have atleast one (a-z), one(A-Z),one(0-9)\")\n",
    "elif password.isalnum==password and password.upper()==password or password.lower()==password or x==password: \n",
    "    print(\"password must have atleast one (a-z), one(A-Z),one(0-9)\")\n",
    "elif  password.isalnum==password and password.upper()==password and password.lower()==password and x==password: \n",
    "    print(\"password must have atleast one (a-z), one(A-Z),one(0-9)\")\n",
    "else:\n",
    "    print(\"strong password\")"
   ]
  },
  {
   "cell_type": "code",
   "execution_count": 8,
   "id": "72c14597",
   "metadata": {},
   "outputs": [],
   "source": [
    "#reverse given word"
   ]
  },
  {
   "cell_type": "code",
   "execution_count": 11,
   "id": "9bf12031",
   "metadata": {},
   "outputs": [
    {
     "name": "stdout",
     "output_type": "stream",
     "text": [
      "enter a word: raasi\n",
      "isaar\n"
     ]
    }
   ],
   "source": [
    "x=input(\"enter a word: \")\n",
    "y=\"\"\n",
    "length=len(x)-1\n",
    "while length>=0:\n",
    "    y+=x[length]\n",
    "    length-=1\n",
    "print(y)"
   ]
  },
  {
   "cell_type": "code",
   "execution_count": 13,
   "id": "5b3a41ac",
   "metadata": {},
   "outputs": [],
   "source": [
    "#average for 10 numbers"
   ]
  },
  {
   "cell_type": "code",
   "execution_count": 14,
   "id": "39d4841c",
   "metadata": {},
   "outputs": [
    {
     "name": "stdout",
     "output_type": "stream",
     "text": [
      "enter elements: 10\n",
      "enter any number: 1\n",
      "enter any number: 2\n",
      "enter any number: 3\n",
      "enter any number: 4\n",
      "enter any number: 5\n",
      "enter any number: 6\n",
      "enter any number: 7\n",
      "enter any number: 8\n",
      "enter any number: 9\n",
      "enter any number: 10\n",
      "average of given elements:  5.5\n"
     ]
    }
   ],
   "source": [
    "x=int(input(\"enter elements: \"))\n",
    "z=0\n",
    "for y in range(0,10):\n",
    "    numbers=int(input(\"enter any number: \"))\n",
    "    z+=numbers\n",
    "    avg=z/x\n",
    "print(\"average of given elements: \",avg)"
   ]
  },
  {
   "cell_type": "code",
   "execution_count": null,
   "id": "43f1a693",
   "metadata": {},
   "outputs": [],
   "source": [
    "# quit using q qnd sum and product"
   ]
  },
  {
   "cell_type": "code",
   "execution_count": 22,
   "id": "c380cc13",
   "metadata": {},
   "outputs": [
    {
     "name": "stdout",
     "output_type": "stream",
     "text": [
      "enter value: and pl press q to quit2\n",
      "2\n",
      "enter value: and pl press q to quit4\n",
      "4\n",
      "enter value: and pl press q to quit2\n",
      "2\n",
      "enter value: and pl press q to quitq\n",
      "q\n",
      "average of given elements:  2.6666666666666665 please press q to quit\n",
      "product of given number:  24 please press q to quit\n"
     ]
    }
   ],
   "source": [
    "count=0\n",
    "thesum=0\n",
    "avg=0\n",
    "product=0\n",
    "while True:\n",
    "    num=input(\"enter value: and pl press q to quit\")\n",
    "    print(num)\n",
    "    if num=='q':\n",
    "        break\n",
    "    thesum+=int(num)\n",
    "    count+=1\n",
    "    avg=thesum/count\n",
    "    product=thesum*count\n",
    "print(\"average of given elements: \",avg,\"please press q to quit\")\n",
    "print(\"product of given number: \",product,\"please press q to quit\")\n",
    "exit=True"
   ]
  },
  {
   "cell_type": "code",
   "execution_count": 6,
   "id": "e9798ef5",
   "metadata": {},
   "outputs": [],
   "source": [
    "#print letters and digits"
   ]
  },
  {
   "cell_type": "code",
   "execution_count": 9,
   "id": "a0831e9d",
   "metadata": {},
   "outputs": [
    {
     "name": "stdout",
     "output_type": "stream",
     "text": [
      "enter string: raasi sowmya0987\n",
      "letters-:  raasisowmya\n",
      "digits-:  0987\n"
     ]
    }
   ],
   "source": [
    "x=input(\"enter string: \")\n",
    "str=\"\"\n",
    "stt=\"\"\n",
    "for y in x:\n",
    "    if y.isalpha():\n",
    "        str=str+y\n",
    "    else:\n",
    "        if y.isnumeric():\n",
    "            stt=stt+y \n",
    "print(\"letters-: \",str)\n",
    "print(\"digits-: \",stt)"
   ]
  },
  {
   "cell_type": "code",
   "execution_count": 13,
   "id": "3fe9c20f",
   "metadata": {},
   "outputs": [],
   "source": [
    "#print all even numbers bet 0 to 10"
   ]
  },
  {
   "cell_type": "code",
   "execution_count": 16,
   "id": "6ea797cd",
   "metadata": {},
   "outputs": [
    {
     "name": "stdout",
     "output_type": "stream",
     "text": [
      "2\n",
      "6\n",
      "12\n",
      "20\n",
      "30\n"
     ]
    }
   ],
   "source": [
    "enum=0\n",
    "for y in range(1,11):\n",
    "    if y%2==0:\n",
    "        enum=enum+y\n",
    "        print(enum)"
   ]
  },
  {
   "cell_type": "code",
   "execution_count": 17,
   "id": "b7c99c95",
   "metadata": {},
   "outputs": [],
   "source": [
    "# print till 0 from given number"
   ]
  },
  {
   "cell_type": "code",
   "execution_count": 19,
   "id": "c45df94c",
   "metadata": {},
   "outputs": [
    {
     "name": "stdout",
     "output_type": "stream",
     "text": [
      "enter a value: 9\n",
      "9\n",
      "8\n",
      "7\n",
      "6\n",
      "5\n",
      "4\n",
      "3\n",
      "2\n",
      "1\n",
      "0\n"
     ]
    }
   ],
   "source": [
    "x=int(input(\"enter a value: \"))\n",
    "for y in range(x,-1,-1):\n",
    "    print(y)"
   ]
  },
  {
   "cell_type": "code",
   "execution_count": null,
   "id": "105d0cbe",
   "metadata": {},
   "outputs": [],
   "source": []
  },
  {
   "cell_type": "code",
   "execution_count": null,
   "id": "cb665bfb",
   "metadata": {},
   "outputs": [],
   "source": []
  },
  {
   "cell_type": "code",
   "execution_count": 2,
   "id": "90483c7d",
   "metadata": {},
   "outputs": [],
   "source": [
    "#task 4"
   ]
  },
  {
   "cell_type": "code",
   "execution_count": 3,
   "id": "9fdf71b9",
   "metadata": {},
   "outputs": [],
   "source": [
    "#print list using loop"
   ]
  },
  {
   "cell_type": "code",
   "execution_count": 7,
   "id": "969b246b",
   "metadata": {},
   "outputs": [
    {
     "name": "stdout",
     "output_type": "stream",
     "text": [
      "1\n",
      "2\n",
      "3\n",
      "4\n",
      "5\n",
      "6\n"
     ]
    }
   ],
   "source": [
    "x=[1,2,3,4,5,6,]\n",
    "for y in x:\n",
    "    print(y)"
   ]
  },
  {
   "cell_type": "code",
   "execution_count": 8,
   "id": "286a607f",
   "metadata": {},
   "outputs": [],
   "source": [
    "#print list in loop"
   ]
  },
  {
   "cell_type": "code",
   "execution_count": 9,
   "id": "95b1e7c4",
   "metadata": {},
   "outputs": [
    {
     "name": "stdout",
     "output_type": "stream",
     "text": [
      "[1, 2, 3, 4, 5, 6]\n"
     ]
    }
   ],
   "source": [
    "x=[1,2,3]\n",
    "y=[4,5,6]\n",
    "list1=x+y\n",
    "for z in x and y:\n",
    "    x.append(z)\n",
    "print(list1)"
   ]
  },
  {
   "cell_type": "code",
   "execution_count": 1,
   "id": "33e8ed72",
   "metadata": {},
   "outputs": [],
   "source": [
    "#remove all odd index values and print even index values"
   ]
  },
  {
   "cell_type": "code",
   "execution_count": 2,
   "id": "edb515bd",
   "metadata": {},
   "outputs": [
    {
     "name": "stdout",
     "output_type": "stream",
     "text": [
      "[1, 3, 5, 7, 9]\n"
     ]
    }
   ],
   "source": [
    "x=[1,2,3,4,5,6,7,8,9,10]\n",
    "for i in x:\n",
    "    if i!=1:\n",
    "        x.remove(i)\n",
    "print(x)"
   ]
  },
  {
   "cell_type": "code",
   "execution_count": 3,
   "id": "4ea01b8f",
   "metadata": {},
   "outputs": [],
   "source": [
    "#sum and product of a list"
   ]
  },
  {
   "cell_type": "code",
   "execution_count": 8,
   "id": "f116c0f1",
   "metadata": {},
   "outputs": [
    {
     "name": "stdout",
     "output_type": "stream",
     "text": [
      "enter no of values: 3\n",
      "enter values: 4\n",
      "enter values: 5\n",
      "enter values: 6\n",
      "sum:  15\n",
      "product:  120\n"
     ]
    }
   ],
   "source": [
    "x=int(input(\"enter no of values: \"))\n",
    "y=[]\n",
    "for i in range(x):\n",
    "    m=int(input(\"enter values: \"))\n",
    "    y.append(m)\n",
    "z=0\n",
    "for i in y:\n",
    "    z=z+i\n",
    "print(\"sum: \",z)\n",
    "n=1\n",
    "for i in y:\n",
    "    n*=i\n",
    "print(\"product: \",n)"
   ]
  },
  {
   "cell_type": "code",
   "execution_count": 4,
   "id": "cf5827f8",
   "metadata": {},
   "outputs": [],
   "source": [
    "#maximum minimum values in list"
   ]
  },
  {
   "cell_type": "code",
   "execution_count": 1,
   "id": "9b95c4ab",
   "metadata": {},
   "outputs": [
    {
     "name": "stdout",
     "output_type": "stream",
     "text": [
      "enter numbers: 5\n",
      "enter value: 25\n",
      "enter value: 357\n",
      "enter value: 1599\n",
      "enter value: 28\n",
      "enter value: 45\n",
      "[25, 357, 1599, 28, 45]\n",
      "maximun:  1599\n",
      "minimum:  25\n"
     ]
    }
   ],
   "source": [
    "x=int(input(\"enter numbers: \"))\n",
    "y=[]\n",
    "for z in range(x):\n",
    "    n=int(input(\"enter value: \"))\n",
    "    y.append(n)\n",
    "print(y)\n",
    "print(\"maximun: \",max(y))\n",
    "print(\"minimum: \",min(y))"
   ]
  },
  {
   "cell_type": "code",
   "execution_count": 7,
   "id": "c870e72f",
   "metadata": {},
   "outputs": [
    {
     "name": "stdout",
     "output_type": "stream",
     "text": [
      "minimum:  60\n",
      "maximum:  2055\n"
     ]
    }
   ],
   "source": [
    "x=[2055,60,200,1950,375,425]\n",
    "for i in range(0,len(x)):\n",
    "    if i==0:\n",
    "        x.sort()\n",
    "        x.sort(reverse=True)\n",
    "print(\"minimum: \",x[-1])\n",
    "print(\"maximum: \",x[0])"
   ]
  },
  {
   "cell_type": "code",
   "execution_count": 9,
   "id": "1f1ea73b",
   "metadata": {},
   "outputs": [],
   "source": [
    "#remove 0 4 and 5 elements"
   ]
  },
  {
   "cell_type": "code",
   "execution_count": 10,
   "id": "f4f7259f",
   "metadata": {},
   "outputs": [
    {
     "name": "stdout",
     "output_type": "stream",
     "text": [
      "['green', 'white', 'black', 'pink']\n"
     ]
    }
   ],
   "source": [
    "x=[\"red\",\"green\",\"white\",\"black\",\"pink\",\"yellow\"]\n",
    "del(x[0]) \n",
    "del(x[4:])\n",
    "print(x)"
   ]
  },
  {
   "cell_type": "code",
   "execution_count": 11,
   "id": "e7f9d735",
   "metadata": {},
   "outputs": [],
   "source": [
    "#list of characters into string"
   ]
  },
  {
   "cell_type": "code",
   "execution_count": 12,
   "id": "35f0aea2",
   "metadata": {},
   "outputs": [
    {
     "data": {
      "text/plain": [
       "\"[1, 2, 3, 4, 5, 6, 7, 'hello']\""
      ]
     },
     "execution_count": 12,
     "metadata": {},
     "output_type": "execute_result"
    }
   ],
   "source": [
    "x=[1,2,3,4,5,6,7,\"hello\"]\n",
    "str(x)"
   ]
  },
  {
   "cell_type": "code",
   "execution_count": 13,
   "id": "0d8c6bf1",
   "metadata": {},
   "outputs": [],
   "source": [
    "#avg of list"
   ]
  },
  {
   "cell_type": "code",
   "execution_count": 14,
   "id": "ba37d886",
   "metadata": {},
   "outputs": [
    {
     "name": "stdout",
     "output_type": "stream",
     "text": [
      "enter no of values: 2\n",
      "enter values: 48\n",
      "enter values: 62\n",
      "[48, 62]\n",
      "55.0\n"
     ]
    }
   ],
   "source": [
    "z=[]\n",
    "x=int(input(\"enter no of values: \"))\n",
    "for i in range(x):\n",
    "    m=int(input(\"enter values: \"))\n",
    "    z.append(m)\n",
    "print(z)\n",
    "addition=sum(z)\n",
    "avg=addition/x\n",
    "print(avg)"
   ]
  },
  {
   "cell_type": "code",
   "execution_count": 17,
   "id": "8d4a4fe0",
   "metadata": {},
   "outputs": [],
   "source": [
    "#print count integer"
   ]
  },
  {
   "cell_type": "code",
   "execution_count": 16,
   "id": "6a6755b5",
   "metadata": {},
   "outputs": [
    {
     "name": "stdout",
     "output_type": "stream",
     "text": [
      "enter: 358978478\n",
      "no of digits: \n",
      "9\n"
     ]
    }
   ],
   "source": [
    "n=int(input(\"enter: \"))\n",
    "count=0\n",
    "while n!=0:\n",
    "    n=n//10\n",
    "    count+=1\n",
    "print(\"no of digits: \")\n",
    "print(count)"
   ]
  },
  {
   "cell_type": "code",
   "execution_count": 18,
   "id": "12fb6f8e",
   "metadata": {},
   "outputs": [],
   "source": [
    "#print reverse of list"
   ]
  },
  {
   "cell_type": "code",
   "execution_count": 19,
   "id": "36114e1a",
   "metadata": {},
   "outputs": [
    {
     "name": "stdout",
     "output_type": "stream",
     "text": [
      "['abc', 9.4, 50, 'ijk', 40]\n"
     ]
    }
   ],
   "source": [
    "x=[40,\"ijk\",50,9.4,\"abc\"]\n",
    "y=[]\n",
    "for i in range(1,len(x)+1):\n",
    "    y.append(x[-i])\n",
    "print(y)"
   ]
  },
  {
   "cell_type": "code",
   "execution_count": 20,
   "id": "aa841df4",
   "metadata": {},
   "outputs": [],
   "source": [
    "#convert string to tuple"
   ]
  },
  {
   "cell_type": "code",
   "execution_count": 21,
   "id": "76c0cbe2",
   "metadata": {},
   "outputs": [
    {
     "name": "stdout",
     "output_type": "stream",
     "text": [
      "('p', 'y', 't', 'h', 'o', 'n', '3', '.', '2')\n"
     ]
    }
   ],
   "source": [
    "x=\"python3.2\"\n",
    "y=tuple(x)\n",
    "print(y)"
   ]
  },
  {
   "cell_type": "code",
   "execution_count": null,
   "id": "e0d33579",
   "metadata": {},
   "outputs": [],
   "source": []
  }
 ],
 "metadata": {
  "kernelspec": {
   "display_name": "Python 3 (ipykernel)",
   "language": "python",
   "name": "python3"
  },
  "language_info": {
   "codemirror_mode": {
    "name": "ipython",
    "version": 3
   },
   "file_extension": ".py",
   "mimetype": "text/x-python",
   "name": "python",
   "nbconvert_exporter": "python",
   "pygments_lexer": "ipython3",
   "version": "3.9.13"
  }
 },
 "nbformat": 4,
 "nbformat_minor": 5
}
